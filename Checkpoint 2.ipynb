{
 "cells": [
  {
   "cell_type": "code",
   "execution_count": 2,
   "id": "69b03cb4",
   "metadata": {},
   "outputs": [
    {
     "name": "stdout",
     "output_type": "stream",
     "text": [
      "a= 2\n",
      "b= 2\n",
      "c= 2\n",
      "8\n"
     ]
    }
   ],
   "source": [
    "a=int(input(\"a= \"))\n",
    "b=int(input(\"b= \"))\n",
    "c=int(input(\"c= \"))\n",
    "my_list=[a,b,c]\n",
    "result=a*b*c\n",
    "print(result)"
   ]
  },
  {
   "cell_type": "code",
   "execution_count": 3,
   "id": "91e0bf98",
   "metadata": {},
   "outputs": [
    {
     "name": "stdout",
     "output_type": "stream",
     "text": [
      "a1= 0\n",
      "a2= 9\n",
      "b1= 1\n",
      "b2= 6\n",
      "c1= 2\n",
      "c2= 3\n",
      "d1= 1\n",
      "d2= 0\n",
      "[(1, 0), (2, 3), (1, 6), (0, 9)]\n"
     ]
    }
   ],
   "source": [
    "a=(int(input(\"a1= \")),int(input(\"a2= \")))\n",
    "b=(int(input(\"b1= \")),int(input(\"b2= \")))\n",
    "c=(int(input(\"c1= \")),int(input(\"c2= \")))\n",
    "d=(int(input(\"d1= \")),int(input(\"d2= \")))\n",
    "my_list=[a,b,c,d]\n",
    "def x(n):\n",
    "    return n[-1]\n",
    "my_list.sort(key=x)\n",
    "print(my_list)"
   ]
  },
  {
   "cell_type": "code",
   "execution_count": 53,
   "id": "9a0f9915",
   "metadata": {},
   "outputs": [
    {
     "name": "stdout",
     "output_type": "stream",
     "text": [
      "{'b': 1100, 'd': 400, 'a': 800, 'c': 300}\n"
     ]
    }
   ],
   "source": [
    "dict1={\"a\":600,\"b\":200,\"c\":300}\n",
    "dict2={\"a\":200,\"b\":900,\"d\":400}\n",
    "print({k: dict1.get(k,0) + dict2.get(k,0) for k in dict1.keys() | dict2.keys()})"
   ]
  },
  {
   "cell_type": "code",
   "execution_count": 38,
   "id": "cfa4bb56",
   "metadata": {},
   "outputs": [
    {
     "name": "stdout",
     "output_type": "stream",
     "text": [
      "3\n",
      "{2: 4, 1: 1, 3: 9}\n"
     ]
    }
   ],
   "source": [
    "n=int(input())\n",
    "my_dict={i:i*i}\n",
    "for i in range(1,n+1):\n",
    "    my_dict[i]=i*i\n",
    "print(my_dict)"
   ]
  },
  {
   "cell_type": "code",
   "execution_count": 34,
   "id": "96f7b0a9",
   "metadata": {},
   "outputs": [
    {
     "name": "stdout",
     "output_type": "stream",
     "text": [
      "a1: 13\n",
      "a2: 12\n",
      "a3: 11\n",
      "[('item1', 13.0), ('item2', 12.0), ('item3', 11.0)]\n",
      "[('item3', 11.0), ('item2', 12.0), ('item1', 13.0)]\n"
     ]
    }
   ],
   "source": [
    "my_tuple1=(\"item1\",float(input(\"a1: \")))\n",
    "my_tuple2=(\"item2\",float(input(\"a2: \")))\n",
    "my_tuple3=(\"item3\",float(input(\"a3: \")))\n",
    "my_list=[my_tuple1,my_tuple2,my_tuple3]\n",
    "print(my_list)\n",
    "def x(n):\n",
    "    return n[1]\n",
    "my_list.sort(key=x)\n",
    "print(my_list)"
   ]
  },
  {
   "cell_type": "code",
   "execution_count": null,
   "id": "a0d1c57f",
   "metadata": {},
   "outputs": [],
   "source": []
  }
 ],
 "metadata": {
  "kernelspec": {
   "display_name": "Python 3",
   "language": "python",
   "name": "python3"
  },
  "language_info": {
   "codemirror_mode": {
    "name": "ipython",
    "version": 3
   },
   "file_extension": ".py",
   "mimetype": "text/x-python",
   "name": "python",
   "nbconvert_exporter": "python",
   "pygments_lexer": "ipython3",
   "version": "3.8.8"
  }
 },
 "nbformat": 4,
 "nbformat_minor": 5
}
