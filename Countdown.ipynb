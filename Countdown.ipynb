{
 "cells": [
  {
   "cell_type": "code",
   "execution_count": 23,
   "id": "60f644b9",
   "metadata": {},
   "outputs": [
    {
     "name": "stdout",
     "output_type": "stream",
     "text": [
      "please enter time in seconds: 30\n",
      "fire in the hole\n"
     ]
    }
   ],
   "source": [
    "import time\n",
    "t=input(\"please enter time in seconds: \")\n",
    "def countdown(t):\n",
    "    while t:\n",
    "        minutes, seconds = divmod(t,60)\n",
    "        horloge = '{:02d}:{:02d}'.format(minutes,seconds)\n",
    "        print(horloge, end=\"\\r\")\n",
    "        time.sleep(1)\n",
    "        t=t-1\n",
    "    print(\"fire in the hole\")\n",
    "countdown(int(t))"
   ]
  },
  {
   "cell_type": "code",
   "execution_count": null,
   "id": "a96e4df9",
   "metadata": {},
   "outputs": [],
   "source": []
  },
  {
   "cell_type": "code",
   "execution_count": null,
   "id": "43856dc8",
   "metadata": {},
   "outputs": [],
   "source": []
  }
 ],
 "metadata": {
  "kernelspec": {
   "display_name": "Python 3",
   "language": "python",
   "name": "python3"
  },
  "language_info": {
   "codemirror_mode": {
    "name": "ipython",
    "version": 3
   },
   "file_extension": ".py",
   "mimetype": "text/x-python",
   "name": "python",
   "nbconvert_exporter": "python",
   "pygments_lexer": "ipython3",
   "version": "3.8.8"
  }
 },
 "nbformat": 4,
 "nbformat_minor": 5
}
