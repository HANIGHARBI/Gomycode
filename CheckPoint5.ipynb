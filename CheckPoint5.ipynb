{
 "cells": [
  {
   "cell_type": "code",
   "execution_count": 17,
   "id": "7a79e2b9",
   "metadata": {},
   "outputs": [
    {
     "name": "stdout",
     "output_type": "stream",
     "text": [
      "[[1, 2, 3], [4, 5, 6]]\n",
      "3\n"
     ]
    }
   ],
   "source": [
    "import numpy as np\n",
    "new_arry=np.array(([1,2,3],[4,5,6]))\n",
    "my_list=new_arry.tolist()\n",
    "print(my_list)\n",
    "print(new_arry[0,2])"
   ]
  },
  {
   "cell_type": "code",
   "execution_count": 20,
   "id": "c84a0027",
   "metadata": {},
   "outputs": [
    {
     "name": "stdout",
     "output_type": "stream",
     "text": [
      "[[1 2 3]\n",
      " [7 8 9]\n",
      " [4 5 6]]\n",
      "15\n"
     ]
    }
   ],
   "source": [
    "import numpy as np\n",
    "a=np.array(([1,2,3],[7,8,9],[4,5,6]))\n",
    "print(a)\n",
    "x=sum(a.diagonal())\n",
    "print(x)"
   ]
  },
  {
   "cell_type": "code",
   "execution_count": 21,
   "id": "c6060dc3",
   "metadata": {},
   "outputs": [
    {
     "name": "stdout",
     "output_type": "stream",
     "text": [
      "[[1 2 3]\n",
      " [7 8 9]\n",
      " [4 5 6]]\n",
      "15\n"
     ]
    }
   ],
   "source": [
    "import numpy as np\n",
    "a=np.array(([1,2,3],[7,8,9],[4,5,6]))\n",
    "print(a)\n",
    "x=np.trace(a)\n",
    "print(x)"
   ]
  },
  {
   "cell_type": "code",
   "execution_count": 48,
   "id": "bfdba6f3",
   "metadata": {},
   "outputs": [
    {
     "name": "stdout",
     "output_type": "stream",
     "text": [
      "x= 4\n",
      "y= 3\n",
      "[[9 3 4]\n",
      " [2 8 9]\n",
      " [4 7 1]\n",
      " [4 1 3]]\n",
      "enter value 7\n",
      "values bigger are [9 8 9]\n"
     ]
    }
   ],
   "source": [
    "import numpy as np\n",
    "rand=np.random.randint(0,10,size=(int(input(\"x= \")),int(input(\"y= \"))))\n",
    "print(rand)\n",
    "z=int(input(\"enter value \"))\n",
    "print(\"values bigger are\",rand[rand>z])"
   ]
  },
  {
   "cell_type": "code",
   "execution_count": 52,
   "id": "d96a5548",
   "metadata": {},
   "outputs": [
    {
     "name": "stdout",
     "output_type": "stream",
     "text": [
      "[[ 4 14  7]\n",
      " [13 12 12]]\n"
     ]
    }
   ],
   "source": [
    "import numpy as np\n",
    "A=np.array(([2,5,4],[6,4,7]))\n",
    "B=np.array(([2,9,3],[7,8,5]))\n",
    "C=A+B\n",
    "print(C)"
   ]
  },
  {
   "cell_type": "code",
   "execution_count": 53,
   "id": "3542aa99",
   "metadata": {},
   "outputs": [
    {
     "name": "stdout",
     "output_type": "stream",
     "text": [
      "[[1 3 5]\n",
      " [4 7 2]]\n",
      "[[-2.66666667 -0.66666667  1.33333333]\n",
      " [ 0.33333333  3.33333333 -1.66666667]]\n"
     ]
    }
   ],
   "source": [
    "import numpy as np\n",
    "X = np.array(([1,3,5],[4,7,2]))\n",
    "print(X)\n",
    "Y = X - X.mean()\n",
    "print(Y)"
   ]
  },
  {
   "cell_type": "code",
   "execution_count": null,
   "id": "45f0ce18",
   "metadata": {},
   "outputs": [],
   "source": []
  }
 ],
 "metadata": {
  "kernelspec": {
   "display_name": "Python 3",
   "language": "python",
   "name": "python3"
  },
  "language_info": {
   "codemirror_mode": {
    "name": "ipython",
    "version": 3
   },
   "file_extension": ".py",
   "mimetype": "text/x-python",
   "name": "python",
   "nbconvert_exporter": "python",
   "pygments_lexer": "ipython3",
   "version": "3.8.8"
  }
 },
 "nbformat": 4,
 "nbformat_minor": 5
}
