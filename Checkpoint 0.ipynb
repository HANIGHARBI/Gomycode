{
 "cells": [
  {
   "cell_type": "code",
   "execution_count": 4,
   "id": "8b67c650",
   "metadata": {},
   "outputs": [
    {
     "name": "stdout",
     "output_type": "stream",
     "text": [
      "Hello we are go my code ! \n"
     ]
    }
   ],
   "source": [
    "print(\"Hello we are go my code ! \")"
   ]
  },
  {
   "cell_type": "code",
   "execution_count": null,
   "id": "77e04da6",
   "metadata": {},
   "outputs": [],
   "source": []
  }
 ],
 "metadata": {
  "kernelspec": {
   "display_name": "Python 3",
   "language": "python",
   "name": "python3"
  },
  "language_info": {
   "codemirror_mode": {
    "name": "ipython",
    "version": 3
   },
   "file_extension": ".py",
   "mimetype": "text/x-python",
   "name": "python",
   "nbconvert_exporter": "python",
   "pygments_lexer": "ipython3",
   "version": "3.8.8"
  }
 },
 "nbformat": 4,
 "nbformat_minor": 5
}
