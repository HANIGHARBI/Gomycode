{
 "cells": [
  {
   "cell_type": "code",
   "execution_count": 1,
   "id": "24835276",
   "metadata": {},
   "outputs": [
    {
     "name": "stdout",
     "output_type": "stream",
     "text": [
      "is false\n"
     ]
    }
   ],
   "source": [
    "def binary_search(A,x):\n",
    "    l=0\n",
    "    h=len(A)-1\n",
    "    if h >= l:\n",
    "        mid = int(l + (h - l)/2)\n",
    "        if A[mid] == x:\n",
    "            print(\" is True\") \n",
    "        elif A[mid] > x:\n",
    "            h=mid-1\n",
    "            print(\"is True\")\n",
    "        else:\n",
    "            l=l+1\n",
    "            print(\"is false\")\n",
    "    else:\n",
    "        return binary_search(A,x)\n",
    "    \n",
    "A=[1,2,4,6,8,9]\n",
    "x=5\n",
    "binary_search(A,x)"
   ]
  },
  {
   "cell_type": "code",
   "execution_count": 2,
   "id": "05af67fd",
   "metadata": {},
   "outputs": [
    {
     "data": {
      "text/plain": [
       "19683"
      ]
     },
     "execution_count": 2,
     "metadata": {},
     "output_type": "execute_result"
    }
   ],
   "source": [
    "def power(a,b):\n",
    "    if b==0:\n",
    "        return 1\n",
    "    elif a==0:\n",
    "        return 0\n",
    "    elif b==1:\n",
    "        return a\n",
    "    else:\n",
    "        return a*power(a,b-1)\n",
    "\n",
    "a=3\n",
    "b=9\n",
    "power(a,b)"
   ]
  },
  {
   "cell_type": "code",
   "execution_count": 3,
   "id": "6c7c6b29",
   "metadata": {},
   "outputs": [
    {
     "data": {
      "text/plain": [
       "[13, 22, 29, 37, 46, 49, 52, 56, 71]"
      ]
     },
     "execution_count": 3,
     "metadata": {},
     "output_type": "execute_result"
    }
   ],
   "source": [
    "def bubsort(A):\n",
    "    for num in range(len(A)-1,0,-1):\n",
    "        for i in range(num):\n",
    "            if A[i]>A[i+1]:\n",
    "                temp=A[i]\n",
    "                A[i]=A[i+1]\n",
    "                A[i+1]=temp\n",
    "    return A\n",
    "A=[29,13,22,37,52,49,46,71,56]\n",
    "bubsort(A)"
   ]
  },
  {
   "cell_type": "code",
   "execution_count": 7,
   "id": "76563715",
   "metadata": {},
   "outputs": [
    {
     "name": "stdout",
     "output_type": "stream",
     "text": [
      "[13, 22, 29, 37, 46, 49, 52, 56, 71]\n"
     ]
    }
   ],
   "source": [
    "def mergesort(A):\n",
    "    if len(A)>1:\n",
    "        mid=len(A)//2\n",
    "        left= A[:mid]\n",
    "        right= A[mid:]\n",
    "        mergesort(left)\n",
    "        mergesort(right)\n",
    "        i=0\n",
    "        j=0\n",
    "        k=0\n",
    "        while i<len(left) and j<len(right):\n",
    "            if left[i]<right[j]:\n",
    "                A[k]=left[i]\n",
    "                i=i+1\n",
    "            else:\n",
    "                A[k]=right[j]\n",
    "                j=j+1\n",
    "            k=k+1\n",
    "        while i<len(left):\n",
    "            A[k]=left[i]\n",
    "            i=i+1\n",
    "            k=k+1\n",
    "        while j<len(right):\n",
    "            A[k]=right[j]\n",
    "            j=j+1\n",
    "            k=k+1\n",
    "\n",
    "A=[29,13,22,37,52,49,46,71,56]\n",
    "mergesort(A)\n",
    "print(A)"
   ]
  },
  {
   "cell_type": "code",
   "execution_count": 9,
   "id": "70231f17",
   "metadata": {},
   "outputs": [],
   "source": [
    "def partition(array,start,end):\n",
    "    pivot=array[start]\n",
    "    low=start+1\n",
    "    high=end\n",
    "    while True:\n",
    "        while low <= high and array[low]>=pivot:\n",
    "            high = high-1\n",
    "        while low <=high and array[low]<=pivot:\n",
    "            low = low +1\n",
    "        if low<=high:\n",
    "            array[low],array[high]=array[high],array[low]\n",
    "        else:\n",
    "            break\n",
    "    array[start],array[high]=array[high],array[start]\n",
    "    \n",
    "    return high"
   ]
  },
  {
   "cell_type": "code",
   "execution_count": 10,
   "id": "00245bc6",
   "metadata": {},
   "outputs": [],
   "source": [
    "def quick_sort(array,start,end):\n",
    "    if start >= end:\n",
    "        return\n",
    "    p = partition(array,start,end)\n",
    "    quick_sort(array,start,p-1)\n",
    "    quick_sort(array,p+1,end)"
   ]
  },
  {
   "cell_type": "code",
   "execution_count": 11,
   "id": "8a5e6aeb",
   "metadata": {},
   "outputs": [
    {
     "name": "stdout",
     "output_type": "stream",
     "text": [
      "[13, 22, 29, 37, 46, 49, 52, 56, 71]\n"
     ]
    }
   ],
   "source": [
    "array=[29,13,22,37,52,49,46,71,56]\n",
    "start=0\n",
    "end=len(array)-1\n",
    "quick_sort(array,start,end)\n",
    "print(array)"
   ]
  },
  {
   "cell_type": "code",
   "execution_count": null,
   "id": "d615be90",
   "metadata": {},
   "outputs": [],
   "source": []
  }
 ],
 "metadata": {
  "kernelspec": {
   "display_name": "Python 3",
   "language": "python",
   "name": "python3"
  },
  "language_info": {
   "codemirror_mode": {
    "name": "ipython",
    "version": 3
   },
   "file_extension": ".py",
   "mimetype": "text/x-python",
   "name": "python",
   "nbconvert_exporter": "python",
   "pygments_lexer": "ipython3",
   "version": "3.8.8"
  }
 },
 "nbformat": 4,
 "nbformat_minor": 5
}
