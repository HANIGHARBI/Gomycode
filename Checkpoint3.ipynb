{
 "cells": [
  {
   "cell_type": "code",
   "execution_count": 14,
   "id": "ccda5915",
   "metadata": {},
   "outputs": [
    {
     "name": "stdout",
     "output_type": "stream",
     "text": [
      "a= 15\n",
      "b= 14\n",
      "c= 19\n",
      "19\n"
     ]
    }
   ],
   "source": [
    "a=int(input(\"a= \"))\n",
    "b=int(input(\"b= \"))\n",
    "c=int(input(\"c= \"))\n",
    "def my_max(a,b,c):\n",
    "    if a>b>c:\n",
    "        return(a)\n",
    "    elif a>c>b:\n",
    "        return(a)\n",
    "    elif b>c>a:\n",
    "        return(b)\n",
    "    elif b>a>c:\n",
    "        return(b)\n",
    "    else: \n",
    "        return(c)\n",
    "print(my_max(a,b,c))"
   ]
  },
  {
   "cell_type": "code",
   "execution_count": 13,
   "id": "4c60d6a6",
   "metadata": {},
   "outputs": [
    {
     "name": "stdout",
     "output_type": "stream",
     "text": [
      "50\n"
     ]
    }
   ],
   "source": [
    "def my_max(a,b,c):\n",
    "    if a>b>c:\n",
    "        return(a)\n",
    "    elif a>c>b:\n",
    "        return(a)\n",
    "    elif b>c>a:\n",
    "        return(b)\n",
    "    elif b>a>c:\n",
    "        return(b)\n",
    "    else: \n",
    "        return(c)\n",
    "print(my_max(40,30,50))"
   ]
  },
  {
   "cell_type": "code",
   "execution_count": 19,
   "id": "a7b02862",
   "metadata": {},
   "outputs": [
    {
     "data": {
      "text/plain": [
       "(17, 1)"
      ]
     },
     "execution_count": 19,
     "metadata": {},
     "output_type": "execute_result"
    }
   ],
   "source": [
    "def calculation(a,b):\n",
    "    return a+b,a-b\n",
    "calculation(9,8)"
   ]
  },
  {
   "cell_type": "code",
   "execution_count": 20,
   "id": "5e71aa76",
   "metadata": {},
   "outputs": [
    {
     "name": "stdout",
     "output_type": "stream",
     "text": [
      "a= 15\n",
      "b= 12\n",
      "(27, 3)\n"
     ]
    }
   ],
   "source": [
    "a=int(input(\"a= \"))\n",
    "b=int(input(\"b= \"))\n",
    "def calculation(a,b):\n",
    "    return a+b,a-b\n",
    "print(calculation(a,b))"
   ]
  },
  {
   "cell_type": "code",
   "execution_count": 22,
   "id": "96645257",
   "metadata": {},
   "outputs": [
    {
     "name": "stdout",
     "output_type": "stream",
     "text": [
      "18\n",
      "10\n"
     ]
    }
   ],
   "source": [
    "my_function1=lambda a,b,c:a+b+c\n",
    "my_function2=lambda x,y,z:x*y*z\n",
    "print(my_function1(5,6,7))\n",
    "print(my_function2(5,2,1))"
   ]
  },
  {
   "cell_type": "code",
   "execution_count": 76,
   "id": "6eb4d5d5",
   "metadata": {},
   "outputs": [
    {
     "name": "stdout",
     "output_type": "stream",
     "text": [
      "4\n",
      "18\n",
      "15\n",
      "(8, 1)\n",
      "[3, 5]\n",
      "[1, 1]\n"
     ]
    }
   ],
   "source": [
    "a=[5,3,7,3]\n",
    "b=[3,1,5,1]\n",
    "print(len(a))\n",
    "def my_function1(my_list):\n",
    "    s=0\n",
    "    for i in my_list:\n",
    "        s=s+i\n",
    "    return(s)\n",
    "print(my_function1(a))\n",
    "def my_function2(my_list):\n",
    "    s=1\n",
    "    for i in my_list:\n",
    "        s=s*i\n",
    "    return(s)\n",
    "print(my_function2(b))\n",
    "c1=[]\n",
    "c2=[]\n",
    "def my_function(a):\n",
    "    for i in range(len(a)):\n",
    "        if( i%2==0):\n",
    "            c1.append(a[i])\n",
    "        else:\n",
    "            c2.append(a[i])\n",
    "    for j in range(len(b)):\n",
    "        if(j%2==0):\n",
    "            c1.append(b[j])\n",
    "        else:\n",
    "            c2.append(b[j])\n",
    "            \n",
    "    x=my_function1(c1)\n",
    "    y=my_function2(c2)\n",
    "    \n",
    "    return (x,y)  \n",
    "\n",
    "print(my_function(c2))\n",
    "\n",
    "print(c1)\n",
    "print(c2)"
   ]
  },
  {
   "cell_type": "code",
   "execution_count": 61,
   "id": "a5add2bd",
   "metadata": {},
   "outputs": [
    {
     "data": {
      "text/plain": [
       "(12, 96)"
      ]
     },
     "execution_count": 61,
     "metadata": {},
     "output_type": "execute_result"
    }
   ],
   "source": [
    "L=[1,2,3,4]\n",
    "C=[3,2,5,6]\n",
    "L1=[]\n",
    "L2=[]\n",
    "def function(L):\n",
    "    for i in range(len(L)):\n",
    "        if (i%2==0):\n",
    "            L1.append(L[i])\n",
    "        else:\n",
    "            L2.append(L[i])\n",
    "    for j in range(len(C)):\n",
    "        if (j%2==0):\n",
    "            L1.append(C[j])\n",
    "        else:\n",
    "            L2.append(C[j])\n",
    "    \n",
    "    x= my_function1(L1)        \n",
    "    y= my_function2(L2)        \n",
    "            \n",
    "    return(x,y)\n",
    "    \n",
    "function(L)"
   ]
  },
  {
   "cell_type": "code",
   "execution_count": 31,
   "id": "b9ff4be6",
   "metadata": {},
   "outputs": [
    {
     "name": "stdout",
     "output_type": "stream",
     "text": [
      "sami-ali-beji\n",
      "ali-beji-sami\n"
     ]
    }
   ],
   "source": [
    "hyphen=[n for n in input().split('-')]\n",
    "hyphen.sort()\n",
    "print('-'.join(hyphen))"
   ]
  },
  {
   "cell_type": "code",
   "execution_count": 45,
   "id": "a9216005",
   "metadata": {},
   "outputs": [
    {
     "name": "stdout",
     "output_type": "stream",
     "text": [
      "50,60,30\n",
      "[13, 14, 10]\n"
     ]
    }
   ],
   "source": [
    "import math\n",
    "\n",
    "C=50\n",
    "H=30\n",
    "D=input()\n",
    "D=D.split(',')\n",
    "\n",
    "result=[]\n",
    "for i in D:\n",
    "    Q=round(math.sqrt((2*C*int(i)/H)))\n",
    "    result.append(Q)\n",
    "print(result)"
   ]
  },
  {
   "cell_type": "code",
   "execution_count": null,
   "id": "b688bba7",
   "metadata": {},
   "outputs": [],
   "source": []
  }
 ],
 "metadata": {
  "kernelspec": {
   "display_name": "Python 3",
   "language": "python",
   "name": "python3"
  },
  "language_info": {
   "codemirror_mode": {
    "name": "ipython",
    "version": 3
   },
   "file_extension": ".py",
   "mimetype": "text/x-python",
   "name": "python",
   "nbconvert_exporter": "python",
   "pygments_lexer": "ipython3",
   "version": "3.8.8"
  }
 },
 "nbformat": 4,
 "nbformat_minor": 5
}
