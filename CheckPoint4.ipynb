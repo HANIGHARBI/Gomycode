{
 "cells": [
  {
   "cell_type": "code",
   "execution_count": 46,
   "id": "e44368d9",
   "metadata": {},
   "outputs": [
    {
     "name": "stdout",
     "output_type": "stream",
     "text": [
      "(1,2,3)\n"
     ]
    }
   ],
   "source": [
    "class point3D:\n",
    "    def __init__(self,x,y,z):\n",
    "        self.x=x\n",
    "        self.y=y\n",
    "        self.z=z\n",
    "    def __repr__(self):\n",
    "        return \"({},{},{})\".format(self.x,self.y,self.z)\n",
    "        \n",
    "my_point = point3D(1,2,3)        \n",
    "print (my_point)"
   ]
  },
  {
   "cell_type": "code",
   "execution_count": 61,
   "id": "2b76bb81",
   "metadata": {},
   "outputs": [
    {
     "name": "stdout",
     "output_type": "stream",
     "text": [
      "x=3\n",
      "y=1\n",
      "z=2\n",
      "(3,1,2)\n"
     ]
    }
   ],
   "source": [
    "class point3D:\n",
    "    x=int()\n",
    "    y=int()\n",
    "    z=int()\n",
    "    def __init__(self,x,y,z):\n",
    "        self.x=x\n",
    "        self.y=y\n",
    "        self.z=z\n",
    "    def reper(self):\n",
    "        return \"({},{},{})\".format(self.x,self.y,self.z)\n",
    "        \n",
    "my_point = point3D(int(input(\"x=\")),input(\"y=\"),input(\"z=\"))  \n",
    "#my_point=point3D(1,2,3)\n",
    "print (my_point.reper())"
   ]
  },
  {
   "cell_type": "code",
   "execution_count": 69,
   "id": "2a53c836",
   "metadata": {},
   "outputs": [
    {
     "name": "stdout",
     "output_type": "stream",
     "text": [
      "area is= 12\n",
      "perimeter is = 14\n"
     ]
    }
   ],
   "source": [
    "class Rectangle:\n",
    "    length=int()\n",
    "    width=int()\n",
    "    def __init__(self,length,width):\n",
    "        self.length= length\n",
    "        self.width= width\n",
    "    \n",
    "    def area(self):\n",
    "        return self.length*self.width\n",
    "    def perimeter(self):\n",
    "        return 2*(self.length+self.width)\n",
    "    \n",
    "my_rectangle = Rectangle(3,4)\n",
    "print(\"area is=\",my_rectangle.area())\n",
    "print(\"perimeter is =\",my_rectangle.perimeter())\n",
    "    "
   ]
  },
  {
   "cell_type": "code",
   "execution_count": 76,
   "id": "22eb5171",
   "metadata": {},
   "outputs": [
    {
     "name": "stdout",
     "output_type": "stream",
     "text": [
      "50.26548245743669\n",
      "25.132741228718345\n"
     ]
    }
   ],
   "source": [
    "class circle:\n",
    "    def __init__(self,O,r):\n",
    "        self.O=O\n",
    "        self.r=r\n",
    "    def area(self):\n",
    "        import math\n",
    "        return math.pi*self.r*self.r\n",
    "    def perimeter(self):\n",
    "        import math\n",
    "        return 2*math.pi*self.r\n",
    "    def isInside\n",
    "my_circle= circle(0,4)\n",
    "print(my_circle.area())\n",
    "print(my_circle.perimeter())\n"
   ]
  },
  {
   "cell_type": "code",
   "execution_count": 97,
   "id": "55f444a4",
   "metadata": {},
   "outputs": [
    {
     "name": "stdout",
     "output_type": "stream",
     "text": [
      "introduire le montant à deposer =300\n",
      "1300.0\n",
      "introduire le montant à retirer =200\n",
      "1100.0\n"
     ]
    }
   ],
   "source": [
    "class bank:\n",
    "    def __init__(self,balance):\n",
    "        self.balance=balance\n",
    "    def deposit(self,money):\n",
    "        self.balance += money\n",
    "        return self.balance\n",
    "    def withdraw(self,money):\n",
    "        self.balance -= money\n",
    "        return self.balance\n",
    "my_balance = bank(1000)\n",
    "print (my_balance.deposit(float(input(\"introduire le montant à deposer =\"))))\n",
    "print (my_balance.withdraw(float(input(\"introduire le montant à retirer =\"))))"
   ]
  },
  {
   "cell_type": "code",
   "execution_count": null,
   "id": "ee838e4d",
   "metadata": {},
   "outputs": [],
   "source": []
  }
 ],
 "metadata": {
  "kernelspec": {
   "display_name": "Python 3",
   "language": "python",
   "name": "python3"
  },
  "language_info": {
   "codemirror_mode": {
    "name": "ipython",
    "version": 3
   },
   "file_extension": ".py",
   "mimetype": "text/x-python",
   "name": "python",
   "nbconvert_exporter": "python",
   "pygments_lexer": "ipython3",
   "version": "3.8.8"
  }
 },
 "nbformat": 4,
 "nbformat_minor": 5
}
